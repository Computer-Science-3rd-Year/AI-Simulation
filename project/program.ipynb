{
 "cells": [
  {
   "cell_type": "code",
   "execution_count": 42,
   "metadata": {},
   "outputs": [],
   "source": [
    "import itertools\n",
    "import random\n",
    "import simpy\n",
    "\n",
    "RANDOM_SEED = 42\n",
    "ROOM_CLEANING_SIZE = 100       # máximo nive de limpieza de una habitación \n",
    "THRESHOLD = 50                 # mínimo de limpieza/confort (% del total)\n",
    "TOURIST_ENERGY_SIZE = 50       # nivel máximo de descanso\n",
    "TOURIST_ENERGY_LEVEL = [5, 25] # nivel de energía de los turistas (menor_energía => más_sueño)\n",
    "SLEEP_SPEED = 2                # tasa de recuperar energía (u / second)\n",
    "HOUSEMAID_TIME = 300           # tiempo que tarda la mucama en limpiar la habitación (segundos)\n",
    "T_INTER = [30, 300]            # intervalo entre la llegada de los turistas\n",
    "SIM_TIME = 1000                # tiempo total de la simulación\n",
    "\n",
    "\n",
    "\n",
    "SALARIES_AMOUNT = {} # salario cobrado por cada trabajador\n",
    "SALARIES_AMOUNT['housemaid'] = 0\n",
    "AMOUNT = {} # pago acumulado por os turistas en cada servicio\n",
    "AMOUNT['room'] = 0"
   ]
  },
  {
   "cell_type": "markdown",
   "metadata": {},
   "source": [
    "#### Definiendo precios"
   ]
  },
  {
   "cell_type": "code",
   "execution_count": 43,
   "metadata": {},
   "outputs": [],
   "source": [
    "PRICES = {}\n",
    "PRICES['room'] = 50\n",
    "\n",
    "SALARIES = {}\n",
    "SALARIES['housemaid'] = 5"
   ]
  },
  {
   "cell_type": "markdown",
   "metadata": {},
   "source": [
    "### Definiendo los resultados de la red social"
   ]
  },
  {
   "cell_type": "code",
   "execution_count": 44,
   "metadata": {},
   "outputs": [],
   "source": [
    "SATISFACTION = {}"
   ]
  },
  {
   "cell_type": "markdown",
   "metadata": {},
   "source": [
    "# Agents\n",
    "## Tourist"
   ]
  },
  {
   "cell_type": "code",
   "execution_count": 29,
   "metadata": {},
   "outputs": [],
   "source": [
    "def tourist(name, env, room, bed):\n",
    "    \"\"\"A car arrives at the gas station for refueling.\n",
    "\n",
    "    It requests one of the gas station's fuel pumps and tries to get the\n",
    "    desired amount of fuel from it. If the station's fuel tank is\n",
    "    depleted, the car has to wait for the tank truck to arrive.\n",
    "\n",
    "    \"\"\"\n",
    "    tourist_energy_level = random.randint(*TOURIST_ENERGY_LEVEL)\n",
    "\n",
    "    print(f'{env.now:6.1f} s: {name} arrived at room')\n",
    "    with room.request() as req:\n",
    "        # Request one of the rooms\n",
    "        yield req\n",
    "\n",
    "        AMOUNT['room'] += PRICES['room']\n",
    "\n",
    "        # Get the required amount of energy\n",
    "        energy_required = TOURIST_ENERGY_SIZE - tourist_energy_level\n",
    "        yield bed.get(energy_required)\n",
    "\n",
    "        # The \"actual\" recovering of energy process takes some time\n",
    "        yield env.timeout(energy_required / SLEEP_SPEED)\n",
    "\n",
    "        print(f'{env.now:6.1f} s: {name} recovered with {energy_required:.1f}units of sleep')\n",
    "\n",
    "        if name not in SATISFACTION:\n",
    "            SATISFACTION[name] = {}\n",
    "        \n",
    "        SATISFACTION[name]['energy'] = energy_required + tourist_energy_level\n",
    "\n",
    "        print(f'Actual level of satisfaction: {SATISFACTION}\\n Actual amount: {AMOUNT}')\n",
    "        print(f'Actual level of clean of room: {bed.level}')\n",
    "        \n",
    "    \n"
   ]
  },
  {
   "cell_type": "markdown",
   "metadata": {},
   "source": [
    "## Workers"
   ]
  },
  {
   "cell_type": "code",
   "execution_count": 15,
   "metadata": {},
   "outputs": [],
   "source": [
    "def housemaid(env, bed):\n",
    "    \"\"\"Arrives at the room and finish of clean it after a certain delay.\"\"\"\n",
    "    #add si no tiene el salario completo no rellena al máximo el nivel de limpieza\n",
    "    yield env.timeout(HOUSEMAID_TIME)\n",
    "    amount = bed.capacity - bed.level\n",
    "    bed.put(amount)\n",
    "\n",
    "    print(\n",
    "        f'{env.now:6.1f} s: Housemaid finished and the room is clean'\n",
    "    )"
   ]
  },
  {
   "cell_type": "markdown",
   "metadata": {},
   "source": [
    "## Manager"
   ]
  },
  {
   "cell_type": "code",
   "execution_count": 39,
   "metadata": {},
   "outputs": [],
   "source": [
    "from deepdiff import DeepDiff\n",
    "\n",
    "def manager(env, bed):\n",
    "    \"\"\"Periodically check the clean level of the room and call the housemaid\n",
    "       if the level falls below a threshold.\"\"\"\n",
    "    while True:\n",
    "        # DO SOMETHING FOR VERIFY THE EVOLUTION OF THE AMOUNT%%%%%%%%%%%%%%%%%%%%$$$$$$$$$$$$$$$$###################\n",
    "\n",
    "\n",
    "        # actual_amount = AMOUNT\n",
    "        # yield env.timeout(30)\n",
    "        # diff = DeepDiff(actual_amount, AMOUNT)\n",
    "        # print(f'Actualization of evolution of amount: {diff}')\n",
    "\n",
    "        if bed.level / bed.capacity * 100 < THRESHOLD:\n",
    "            # We need to call the housemaid now!\n",
    "            print(f'{env.now:6.1f} s: Housemaid is cleaning the room')\n",
    "            # Wait for the housemaid to clean the room\n",
    "            yield env.process(housemaid(env, bed))\n",
    "\n",
    "            housemaid_salary = SALARIES['housemaid']\n",
    "\n",
    "            if AMOUNT['room'] >= housemaid_salary:\n",
    "                AMOUNT['room'] -= housemaid_salary\n",
    "                SALARIES_AMOUNT['housemaid'] += housemaid_salary\n",
    "                print(f'{env.now:6.1f} s: The housemaid charaged ${housemaid_salary}. The amount salary of housemaid is {SALARIES_AMOUNT['housemaid']}')\n",
    "\n",
    "            # else: (algo con el rendimiento de la housemaid al limpiar la habitación)\n",
    "        \n",
    "        yield env.timeout(5)  # Check every 10 seconds\n",
    "\n",
    "        # añadir análisis con las ganancias"
   ]
  },
  {
   "cell_type": "code",
   "execution_count": 17,
   "metadata": {},
   "outputs": [],
   "source": [
    "def tourist_generator(env, room, bed):\n",
    "    \"\"\"Generate new tourists that arrive at the hotel.\"\"\"\n",
    "    for i in itertools.count():\n",
    "        yield env.timeout(random.randint(*T_INTER))\n",
    "        env.process(tourist(f'Tourist {i}', env, room, bed))"
   ]
  },
  {
   "cell_type": "markdown",
   "metadata": {},
   "source": [
    "# Simulation"
   ]
  },
  {
   "cell_type": "code",
   "execution_count": 46,
   "metadata": {},
   "outputs": [
    {
     "name": "stdout",
     "output_type": "stream",
     "text": [
      "Hotel is open\n",
      "  87.0 s: Tourist 0 arrived at room\n",
      " 105.5 s: Tourist 0 recovered with 37.0units of sleep\n",
      "Actual level of satisfaction: {'Tourist 0': {'energy': 50}, 'Tourist 1': {'energy': 50}, 'Tourist 3': {'energy': 50}, 'Tourist 2': {'energy': 50}, 'Tourist 5': {'energy': 50}, 'Tourist 4': {'energy': 50}}\n",
      " Actual amount: {'room': 440}\n",
      "Actual level of clean of room: 63\n",
      " 129.0 s: Tourist 1 arrived at room\n",
      " 130.0 s: Housemaid is cleaning the room\n",
      " 148.0 s: Tourist 1 recovered with 38.0units of sleep\n",
      "Actual level of satisfaction: {'Tourist 0': {'energy': 50}, 'Tourist 1': {'energy': 50}, 'Tourist 3': {'energy': 50}, 'Tourist 2': {'energy': 50}, 'Tourist 5': {'energy': 50}, 'Tourist 4': {'energy': 50}}\n",
      " Actual amount: {'room': 490}\n",
      "Actual level of clean of room: 25\n",
      " 284.0 s: Tourist 2 arrived at room\n",
      " 385.0 s: Tourist 3 arrived at room\n",
      " 430.0 s: Housemaid finished and the room is clean\n",
      " 430.0 s: The housemaid charaged $5. The amount salary of housemaid is 15\n",
      " 435.0 s: Housemaid is cleaning the room\n",
      " 443.5 s: Tourist 3 recovered with 27.0units of sleep\n",
      "Actual level of satisfaction: {'Tourist 0': {'energy': 50}, 'Tourist 1': {'energy': 50}, 'Tourist 3': {'energy': 50}, 'Tourist 2': {'energy': 50}, 'Tourist 5': {'energy': 50}, 'Tourist 4': {'energy': 50}}\n",
      " Actual amount: {'room': 585}\n",
      "Actual level of clean of room: 31\n",
      " 451.0 s: Tourist 2 recovered with 42.0units of sleep\n",
      "Actual level of satisfaction: {'Tourist 0': {'energy': 50}, 'Tourist 1': {'energy': 50}, 'Tourist 3': {'energy': 50}, 'Tourist 2': {'energy': 50}, 'Tourist 5': {'energy': 50}, 'Tourist 4': {'energy': 50}}\n",
      " Actual amount: {'room': 585}\n",
      "Actual level of clean of room: 31\n",
      " 459.0 s: Tourist 4 arrived at room\n",
      " 705.0 s: Tourist 5 arrived at room\n",
      " 735.0 s: Housemaid finished and the room is clean\n",
      " 735.0 s: The housemaid charaged $5. The amount salary of housemaid is 20\n",
      " 740.0 s: Housemaid is cleaning the room\n",
      " 750.0 s: Tourist 6 arrived at room\n",
      " 756.5 s: Tourist 5 recovered with 43.0units of sleep\n",
      "Actual level of satisfaction: {'Tourist 0': {'energy': 50}, 'Tourist 1': {'energy': 50}, 'Tourist 3': {'energy': 50}, 'Tourist 2': {'energy': 50}, 'Tourist 5': {'energy': 50}, 'Tourist 4': {'energy': 50}}\n",
      " Actual amount: {'room': 680}\n",
      "Actual level of clean of room: 13\n",
      " 757.0 s: Tourist 4 recovered with 44.0units of sleep\n",
      "Actual level of satisfaction: {'Tourist 0': {'energy': 50}, 'Tourist 1': {'energy': 50}, 'Tourist 3': {'energy': 50}, 'Tourist 2': {'energy': 50}, 'Tourist 5': {'energy': 50}, 'Tourist 4': {'energy': 50}}\n",
      " Actual amount: {'room': 730}\n",
      "Actual level of clean of room: 13\n",
      " 891.0 s: Tourist 7 arrived at room\n"
     ]
    }
   ],
   "source": [
    "# Setup and start the simulation\n",
    "print('Hotel is open')\n",
    "random.seed(RANDOM_SEED)\n",
    "\n",
    "# Create environment and start processes\n",
    "env = simpy.Environment()  # hotel\n",
    "\n",
    "# modificar room para que sea un array de reosurces con capacidad 1, luego habrá que modificar el resto de las\n",
    "# func que utilizan room para que lo traten como un array\n",
    "room = simpy.Resource(env, 2)\n",
    "\n",
    "bed = simpy.Container(env, ROOM_CLEANING_SIZE, init=ROOM_CLEANING_SIZE)\n",
    "env.process(manager(env, bed))\n",
    "env.process(tourist_generator(env, room, bed))\n",
    "\n",
    "# Execute!\n",
    "env.run(until=SIM_TIME)"
   ]
  },
  {
   "cell_type": "markdown",
   "metadata": {},
   "source": [
    "## Gestión de pagos/cobros"
   ]
  },
  {
   "cell_type": "code",
   "execution_count": 19,
   "metadata": {},
   "outputs": [],
   "source": [
    "\n",
    "\n",
    "def cliente(env, nombre_cliente):\n",
    "    print(f'{nombre_cliente} llega al mercado')\n",
    "    for i in range(3):  # Suponemos que el cliente va a visitar a 3 vendedores\n",
    "        yield env.timeout(1)  # Espera un tiempo antes de ir al siguiente vendedor\n",
    "        print(f'{nombre_cliente} está hablando con el vendedor {i+1}')\n",
    "        monto = 100 * (i + 1)  # El monto a pagar aumenta con cada vendedor\n",
    "        print(f'{nombre_cliente} le pide al vendedor {i+1} {monto} euros')\n",
    "        \n",
    "        # Actualizamos el estado del vendedor con el monto recibido\n",
    "        vendedores_estado[f'Vendedor {i+1}'] += monto\n",
    "\n",
    "def vendedor(env, nombre_vendedor):\n",
    "    print(f'{nombre_vendedor} abre su puesto')\n",
    "    yield env.timeout(0.5)  # Tiempo que el vendedor espera por un cliente\n",
    "    print(f'{nombre_vendedor} cierra su puesto')\n",
    "\n",
    "    # Inicializamos el estado del vendedor si aún no se ha registrado\n",
    "    if nombre_vendedor not in vendedores_estado:\n",
    "        vendedores_estado[nombre_vendedor] = 0"
   ]
  }
 ],
 "metadata": {
  "kernelspec": {
   "display_name": "Python 3",
   "language": "python",
   "name": "python3"
  },
  "language_info": {
   "codemirror_mode": {
    "name": "ipython",
    "version": 3
   },
   "file_extension": ".py",
   "mimetype": "text/x-python",
   "name": "python",
   "nbconvert_exporter": "python",
   "pygments_lexer": "ipython3",
   "version": "3.12.4"
  }
 },
 "nbformat": 4,
 "nbformat_minor": 2
}
