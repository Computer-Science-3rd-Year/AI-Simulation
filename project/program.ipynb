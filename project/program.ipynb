{
 "cells": [
  {
   "cell_type": "code",
   "execution_count": 6,
   "metadata": {},
   "outputs": [],
   "source": [
    "import itertools\n",
    "import random\n",
    "import simpy\n",
    "\n",
    "RANDOM_SEED = 42\n",
    "ROOM_CLEANING_SIZE = 200       # máximo nive de limpieza de una habitación \n",
    "THRESHOLD = 25                 # mínimo de limpieza/confort (% del total)\n",
    "TOURIST_ENERGY_SIZE = 50       # nivel máximo de descanso\n",
    "TOURIST_ENERGY_LEVEL = [5, 25] # nivel de energía de los turistas (menor_energía => más_sueño)\n",
    "SLEEP_SPEED = 2                # tasa de recuperar energía (u / second)\n",
    "HOUSEMAID_TIME = 300           # tiempo que tarda la mucama en limpiar la habitación (segundos)\n",
    "T_INTER = [30, 300]            # intervalo entre la llegada de los turistas\n",
    "SIM_TIME = 1000                # tiempo total de la simulación"
   ]
  },
  {
   "cell_type": "markdown",
   "metadata": {},
   "source": [
    "# Agents\n",
    "## Tourist"
   ]
  },
  {
   "cell_type": "code",
   "execution_count": 1,
   "metadata": {},
   "outputs": [],
   "source": [
    "def tourist(name, env, hotel, room):\n",
    "    \"\"\"A car arrives at the gas station for refueling.\n",
    "\n",
    "    It requests one of the gas station's fuel pumps and tries to get the\n",
    "    desired amount of fuel from it. If the station's fuel tank is\n",
    "    depleted, the car has to wait for the tank truck to arrive.\n",
    "\n",
    "    \"\"\"\n",
    "    tourist_energy_level = random.randint(*TOURIST_ENERGY_LEVEL)\n",
    "    print(f'{env.now:6.1f} s: {name} arrived at hotel')\n",
    "    with hotel.request() as req:\n",
    "        # Request one of the rooms\n",
    "        yield req\n",
    "\n",
    "        # Get the required amount of energy\n",
    "        energy_required = TOURIST_ENERGY_SIZE - tourist_energy_level\n",
    "        yield room.get(energy_required)\n",
    "\n",
    "        # The \"actual\" recovering of energy process takes some time\n",
    "        yield env.timeout(energy_required / SLEEP_SPEED)\n",
    "\n",
    "        print(f'{env.now:6.1f} s: {name} recovered with {energy_required:.1f}units of sleep')\n"
   ]
  },
  {
   "cell_type": "markdown",
   "metadata": {},
   "source": [
    "## Workers"
   ]
  },
  {
   "cell_type": "code",
   "execution_count": 8,
   "metadata": {},
   "outputs": [],
   "source": [
    "def housemaid(env, room):\n",
    "    \"\"\"Arrives at the room and finish of clean it after a certain delay.\"\"\"\n",
    "    yield env.timeout(HOUSEMAID_TIME)\n",
    "    amount = room.capacity - room.level\n",
    "    room.put(amount)\n",
    "    print(\n",
    "        f'{env.now:6.1f} s: Housemaid finished and the room is clean'\n",
    "    )"
   ]
  },
  {
   "cell_type": "markdown",
   "metadata": {},
   "source": [
    "## Manager"
   ]
  },
  {
   "cell_type": "code",
   "execution_count": 11,
   "metadata": {},
   "outputs": [],
   "source": [
    "def manager(env, room):\n",
    "    \"\"\"Periodically check the clean level of the room and call the housemaid\n",
    "       if the level falls below a threshold.\"\"\"\n",
    "    while True:\n",
    "        if room.level / room.capacity * 100 < THRESHOLD:\n",
    "            # We need to call the housemaid now!\n",
    "            print(f'{env.now:6.1f} s: Housemaid is cleaning the room')\n",
    "            # Wait for the tank truck to arrive and refuel the station tank\n",
    "            yield env.process(housemaid(env, room))\n",
    "\n",
    "        yield env.timeout(10)  # Check every 10 seconds"
   ]
  },
  {
   "cell_type": "code",
   "execution_count": 4,
   "metadata": {},
   "outputs": [],
   "source": [
    "def tourist_generator(env, hotel, room):\n",
    "    \"\"\"Generate new tourists that arrive at the hotel.\"\"\"\n",
    "    for i in itertools.count():\n",
    "        yield env.timeout(random.randint(*T_INTER))\n",
    "        env.process(tourist(f'Tourist {i}', env, hotel, room))"
   ]
  },
  {
   "cell_type": "markdown",
   "metadata": {},
   "source": [
    "# Simulation"
   ]
  },
  {
   "cell_type": "code",
   "execution_count": 12,
   "metadata": {},
   "outputs": [
    {
     "name": "stdout",
     "output_type": "stream",
     "text": [
      "Hotel is open\n",
      "  87.0 s: Tourist 0 arrived at hotel\n",
      " 105.5 s: Tourist 0 recovered with 37.0units of sleep\n",
      " 129.0 s: Tourist 1 arrived at hotel\n",
      " 148.0 s: Tourist 1 recovered with 38.0units of sleep\n",
      " 284.0 s: Tourist 2 arrived at hotel\n",
      " 305.0 s: Tourist 2 recovered with 42.0units of sleep\n",
      " 385.0 s: Tourist 3 arrived at hotel\n",
      " 398.5 s: Tourist 3 recovered with 27.0units of sleep\n",
      " 459.0 s: Tourist 4 arrived at hotel\n",
      " 460.0 s: Housemaid is cleaning the room\n",
      " 481.0 s: Tourist 4 recovered with 44.0units of sleep\n",
      " 705.0 s: Tourist 5 arrived at hotel\n",
      " 750.0 s: Tourist 6 arrived at hotel\n",
      " 760.0 s: Housemaid finished and the room is clean\n",
      " 779.0 s: Tourist 6 recovered with 38.0units of sleep\n",
      " 781.5 s: Tourist 5 recovered with 43.0units of sleep\n",
      " 891.0 s: Tourist 7 arrived at hotel\n",
      " 904.0 s: Tourist 7 recovered with 26.0units of sleep\n"
     ]
    }
   ],
   "source": [
    "# Setup and start the simulation\n",
    "print('Hotel is open')\n",
    "random.seed(RANDOM_SEED)\n",
    "\n",
    "# Create environment and start processes\n",
    "env = simpy.Environment()\n",
    "hotel = simpy.Resource(env, 2)\n",
    "room = simpy.Container(env, ROOM_CLEANING_SIZE, init=ROOM_CLEANING_SIZE)\n",
    "env.process(manager(env, room))\n",
    "env.process(tourist_generator(env, hotel, room))\n",
    "\n",
    "# Execute!\n",
    "env.run(until=SIM_TIME)"
   ]
  }
 ],
 "metadata": {
  "kernelspec": {
   "display_name": "Python 3",
   "language": "python",
   "name": "python3"
  },
  "language_info": {
   "codemirror_mode": {
    "name": "ipython",
    "version": 3
   },
   "file_extension": ".py",
   "mimetype": "text/x-python",
   "name": "python",
   "nbconvert_exporter": "python",
   "pygments_lexer": "ipython3",
   "version": "3.12.4"
  }
 },
 "nbformat": 4,
 "nbformat_minor": 2
}
