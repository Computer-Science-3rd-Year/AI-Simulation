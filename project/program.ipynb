{
 "cells": [
  {
   "cell_type": "code",
   "execution_count": 11,
   "metadata": {},
   "outputs": [],
   "source": [
    "import itertools\n",
    "import random\n",
    "import simpy"
   ]
  },
  {
   "cell_type": "markdown",
   "metadata": {},
   "source": [
    "## Utils"
   ]
  },
  {
   "cell_type": "markdown",
   "metadata": {},
   "source": [
    "### Class"
   ]
  },
  {
   "cell_type": "code",
   "execution_count": 12,
   "metadata": {},
   "outputs": [],
   "source": [
    "class My_container(simpy.Container):\n",
    "    def __init__(self, env, name: str, capacity: int | float = ..., init: int | float = 0):\n",
    "        super().__init__(env, capacity, init)\n",
    "        self.name = name\n",
    "\n",
    "\n",
    "class My_resource(simpy.Resource):\n",
    "    def __init__(self, env, name: str, container: My_container=None, capacity: int = 1):\n",
    "        super().__init__(env, capacity)\n",
    "        self.name = name\n",
    "        self.container = container\n",
    "\n",
    "class Resources_set:\n",
    "    def __init__(self, env, count_resources, name, container: My_container=None):\n",
    "        self.env = env\n",
    "        self.resources = [My_resource(env, f'{name}_{i}', container, capacity=1) for i in range(count_resources)]\n",
    "\n",
    "    def request_resource(self):\n",
    "        # Genera un evento para cada recurso\n",
    "        for resource in self.resources:\n",
    "            yield resource.request()  # Genera un evento de solicitud\n",
    "\n",
    "        # Genera un evento que nunca se completa (para el \"break\")\n",
    "        yield self.env.event()\n",
    "        \n",
    "\n",
    "    def release_resource(self, resource):\n",
    "        resource.release(resource)\n"
   ]
  },
  {
   "cell_type": "markdown",
   "metadata": {},
   "source": [
    "### Functions"
   ]
  },
  {
   "cell_type": "code",
   "execution_count": 13,
   "metadata": {},
   "outputs": [],
   "source": [
    "def rule_of_three(numerator, denominator, factor):\n",
    "    return (numerator/denominator)*factor"
   ]
  },
  {
   "cell_type": "markdown",
   "metadata": {},
   "source": [
    "## Definiendo parámetros"
   ]
  },
  {
   "cell_type": "code",
   "execution_count": 35,
   "metadata": {},
   "outputs": [],
   "source": [
    "\"\"\" SIMULATION \"\"\"\n",
    "RANDOM_SEED = 42\n",
    "T_INTER = [30, 300]            # intervalo entre la llegada de los turistas\n",
    "SIM_TIME = 500                # tiempo total de la simulación\n",
    "\n",
    "\"\"\" ROOM \"\"\"\n",
    "ROOM_CLEANING_SIZE = 50       # máximo nive de limpieza de una habitación \n",
    "THRESHOLD_CLEAN = 50           # mínimo de limpieza/confort (% del total)\n",
    "\n",
    "\"\"\" TOURIST \"\"\"\n",
    "TOURIST_ENERGY_SIZE = 50       # nivel máximo de descanso\n",
    "TOURIST_ENERGY_LEVEL = [5, 25] # nivel de energía de los turistas (menor_energía => más_sueño)\n",
    "SLEEP_SPEED = 2                # tasa de recuperar energía (u / second)\n",
    "\n",
    "\"\"\" WORKER \"\"\"\n",
    "HOUSEMAID_TIME = 50           # tiempo que tarda la mucama en limpiar la habitación (segundos)\n",
    "\n",
    "\n",
    "\"\"\" MONEY \"\"\"\n",
    "PRICES = {}\n",
    "PRICES['room'] = 50\n",
    "\n",
    "SALARIES = {}\n",
    "SALARIES['housemaid'] = 5\n",
    "\n",
    "SALARIES_AMOUNT = {}           # salario cobrado por cada trabajador\n",
    "SALARIES_AMOUNT['housemaid'] = 0\n",
    "\n",
    "AMOUNT = {}                    # pago acumulado por Los turistas en cada servicio\n",
    "AMOUNT['room'] = 0\n",
    "#AMOUNT['room'] = (0, 0, 0)    # (pago_del_turista, del_1ro_lo_pagado_al_trabajador, cant_turist)"
   ]
  },
  {
   "cell_type": "markdown",
   "metadata": {},
   "source": [
    "### Red social"
   ]
  },
  {
   "cell_type": "code",
   "execution_count": 36,
   "metadata": {},
   "outputs": [],
   "source": [
    "SATISFACTION = {} # ['tourist_name'] = {['necesity'] = level_when_leaves_the_hotel}"
   ]
  },
  {
   "cell_type": "markdown",
   "metadata": {},
   "source": [
    "# Agents\n",
    "## Tourist"
   ]
  },
  {
   "cell_type": "code",
   "execution_count": 32,
   "metadata": {},
   "outputs": [],
   "source": [
    "def tourist(name, env, rooms): # most be include 'age'\n",
    "   \n",
    "    tourist_energy_level = random.randint(*TOURIST_ENERGY_LEVEL) \n",
    "\n",
    "    print(f'{env.now:6.1f} s: {name} arrived at room')\n",
    "\n",
    "    for room in rooms.resources:\n",
    "        if room.count == 0:\n",
    "            # Solicita un recurso \n",
    "            with room.request() as request_room:\n",
    "                yield request_room\n",
    "                _room = rooms.resources[rooms.resources.index(request_room.resource)]\n",
    "                print(f\"El turista {name} accedió a la habitación {_room.name}\")\n",
    "\n",
    "                # Get the required amount of energy\n",
    "                energy_required = TOURIST_ENERGY_SIZE - tourist_energy_level\n",
    "\n",
    "                if _room.container.level < energy_required:\n",
    "                    print(f'El turista {name} no pudo descansar. La habitación {_room.name} estaba DEMASIADO sucia. Se ha ido SIN PAGAR')\n",
    "                    print(f'Level of clean: {_room.container.level}')\n",
    "\n",
    "                    if name not in SATISFACTION:\n",
    "                        SATISFACTION[name] = {}        \n",
    "                    SATISFACTION[name]['energy'] = tourist_energy_level\n",
    "                    print(f'Actual level of satisfaction: {SATISFACTION}\\n Actual amount: {AMOUNT}')\n",
    "                    print(f'Actual level of clean of {_room.name}: {_room.container.level}')\n",
    "                    break\n",
    "\n",
    "                else:\n",
    "                    AMOUNT['room'] += PRICES['room']\n",
    "                    yield _room.container.get(energy_required)\n",
    "\n",
    "                    # The \"actual\" recovering of energy process takes some time\n",
    "                    yield env.timeout(energy_required / SLEEP_SPEED)\n",
    "\n",
    "                    if name not in SATISFACTION:\n",
    "                        SATISFACTION[name] = {}        \n",
    "                    SATISFACTION[name]['energy'] = tourist_energy_level + energy_required\n",
    "                    print(f'Actual level of satisfaction: {SATISFACTION}\\n Actual amount: {AMOUNT}')\n",
    "                    print(f'Actual level of clean of {_room.name}: {_room.container.level}')\n",
    "\n",
    "                    break\n"
   ]
  },
  {
   "cell_type": "markdown",
   "metadata": {},
   "source": [
    "## Workers"
   ]
  },
  {
   "cell_type": "code",
   "execution_count": 33,
   "metadata": {},
   "outputs": [],
   "source": [
    "def housemaid(env, room):\n",
    "    \"\"\"Arrives at the room and finish of clean it after a certain delay.\"\"\"\n",
    "    #add si no tiene el salario completo no rellena al máximo el nivel de limpieza\n",
    "    yield env.timeout(2)\n",
    "\n",
    "    with room.request() as rq:\n",
    "        yield rq\n",
    "        print(f'{env.now:6.1f} s: Housemaid is cleaning the {room.container.name} of the {room.name}...')\n",
    "        bed = room.container\n",
    "        amount = bed.capacity - bed.level\n",
    "        print(f'{env.now:6.1f} s: Level before clean the {room.name}: {bed.level}')\n",
    "        bed.put(amount)\n",
    "        yield env.timeout(HOUSEMAID_TIME)\n",
    "\n",
    "    print(\n",
    "        f'{env.now:6.1f} s: Housemaid finished and the room is clean'\n",
    "    )\n",
    "    print(f'Level after clean {room.name}: {bed.level}')"
   ]
  },
  {
   "cell_type": "markdown",
   "metadata": {},
   "source": [
    "## Manager"
   ]
  },
  {
   "cell_type": "code",
   "execution_count": 25,
   "metadata": {},
   "outputs": [],
   "source": [
    "def manager(env, rooms):\n",
    "    \"\"\"Periodically check the clean level of the room and call the housemaid\n",
    "       if the level falls below a threshold.\"\"\"\n",
    "    while True:\n",
    "        # DO SOMETHING FOR VERIFY THE EVOLUTION OF THE AMOUNT%%%%%%%%%%%%%%%%%%%%$$$$$$$$$$$$$$$$###################\n",
    "        # \n",
    "\n",
    "\n",
    "        # actual_amount = AMOUNT\n",
    "        # yield env.timeout(30)\n",
    "        # diff = DeepDiff(actual_amount, AMOUNT)\n",
    "        # print(f'Actualization of evolution of amount: {diff}')\n",
    "\n",
    "        for room in rooms:\n",
    "\n",
    "            if room.container.level / room.container.capacity * 100 < THRESHOLD_CLEAN:\n",
    "                # We need to call the housemaid now!\n",
    "                \n",
    "                # Wait for the housemaid to clean the room\n",
    "                yield env.process(housemaid(env, room))\n",
    "\n",
    "                housemaid_salary = SALARIES['housemaid']\n",
    "\n",
    "                if AMOUNT['room'] >= housemaid_salary:\n",
    "                    AMOUNT['room'] -= housemaid_salary\n",
    "                    SALARIES_AMOUNT['housemaid'] += housemaid_salary\n",
    "                    print(f'{env.now:6.1f} s: The housemaid charaged ${housemaid_salary}. The amount salary of housemaid is {SALARIES_AMOUNT['housemaid']}')\n",
    "\n",
    "                # else: (algo con el rendimiento de la housemaid al limpiar la habitación)\n",
    "        \n",
    "        yield env.timeout(5)  # Check every 10 seconds\n",
    "\n",
    "        # añadir análisis con las ganancias"
   ]
  },
  {
   "cell_type": "code",
   "execution_count": 19,
   "metadata": {},
   "outputs": [],
   "source": [
    "def tourist_generator(env, rooms):\n",
    "    \"\"\"Generate new tourists that arrive at the hotel.\"\"\"\n",
    "    for i in itertools.count():\n",
    "        yield env.timeout(random.randint(*T_INTER))\n",
    "        env.process(tourist(f'Tourist {i}', env, rooms))"
   ]
  },
  {
   "cell_type": "markdown",
   "metadata": {},
   "source": [
    "# Simulation"
   ]
  },
  {
   "cell_type": "code",
   "execution_count": 37,
   "metadata": {},
   "outputs": [
    {
     "name": "stdout",
     "output_type": "stream",
     "text": [
      "Hotel is open\n",
      "  87.0 s: Tourist 0 arrived at room\n",
      "El turista Tourist 0 accedió a la habitación room_0\n",
      "Actual level of satisfaction: {'Tourist 0': {'energy': 50}}\n",
      " Actual amount: {'room': 50}\n",
      "Actual level of clean of room_0: 13\n",
      " 105.5 s: Housemaid is cleaning the bed of the room_0...\n",
      " 105.5 s: Level before clean the room_0: 13\n",
      " 129.0 s: Tourist 1 arrived at room\n",
      "El turista Tourist 1 accedió a la habitación room_1\n",
      "Actual level of satisfaction: {'Tourist 0': {'energy': 50}, 'Tourist 1': {'energy': 50}}\n",
      " Actual amount: {'room': 100}\n",
      "Actual level of clean of room_1: 12\n",
      " 155.5 s: Housemaid finished and the room is clean\n",
      "Level after clean room_0: 12\n",
      " 155.5 s: The housemaid charaged $5. The amount salary of housemaid is 5\n",
      " 157.5 s: Housemaid is cleaning the bed of the room_1...\n",
      " 157.5 s: Level before clean the room_1: 12\n",
      " 207.5 s: Housemaid finished and the room is clean\n",
      "Level after clean room_1: 50\n",
      " 207.5 s: The housemaid charaged $5. The amount salary of housemaid is 10\n",
      " 284.0 s: Tourist 2 arrived at room\n",
      "El turista Tourist 2 accedió a la habitación room_0\n",
      "Actual level of satisfaction: {'Tourist 0': {'energy': 50}, 'Tourist 1': {'energy': 50}, 'Tourist 2': {'energy': 50}}\n",
      " Actual amount: {'room': 140}\n",
      "Actual level of clean of room_0: 8\n",
      " 305.0 s: Housemaid is cleaning the bed of the room_0...\n",
      " 305.0 s: Level before clean the room_0: 8\n",
      " 355.0 s: Housemaid finished and the room is clean\n",
      "Level after clean room_0: 50\n",
      " 355.0 s: The housemaid charaged $5. The amount salary of housemaid is 15\n",
      " 385.0 s: Tourist 3 arrived at room\n",
      "El turista Tourist 3 accedió a la habitación room_0\n",
      "Actual level of satisfaction: {'Tourist 0': {'energy': 50}, 'Tourist 1': {'energy': 50}, 'Tourist 2': {'energy': 50}, 'Tourist 3': {'energy': 50}}\n",
      " Actual amount: {'room': 185}\n",
      "Actual level of clean of room_0: 23\n",
      " 398.5 s: Housemaid is cleaning the bed of the room_0...\n",
      " 398.5 s: Level before clean the room_0: 23\n",
      " 448.5 s: Housemaid finished and the room is clean\n",
      "Level after clean room_0: 50\n",
      " 448.5 s: The housemaid charaged $5. The amount salary of housemaid is 20\n",
      " 459.0 s: Tourist 4 arrived at room\n",
      "El turista Tourist 4 accedió a la habitación room_0\n",
      "Actual level of satisfaction: {'Tourist 0': {'energy': 50}, 'Tourist 1': {'energy': 50}, 'Tourist 2': {'energy': 50}, 'Tourist 3': {'energy': 50}, 'Tourist 4': {'energy': 50}}\n",
      " Actual amount: {'room': 230}\n",
      "Actual level of clean of room_0: 6\n",
      " 481.0 s: Housemaid is cleaning the bed of the room_0...\n",
      " 481.0 s: Level before clean the room_0: 6\n"
     ]
    }
   ],
   "source": [
    "# Setup and start the simulation\n",
    "print('Hotel is open')\n",
    "random.seed(RANDOM_SEED)\n",
    "\n",
    "# Create environment and start processes\n",
    "env = simpy.Environment()  # hotel\n",
    "\n",
    "rooms = Resources_set(env, 10, 'room', My_container(env, 'bed', ROOM_CLEANING_SIZE, init=ROOM_CLEANING_SIZE))\n",
    "\n",
    "\n",
    "env.process(manager(env, rooms.resources))\n",
    "env.process(tourist_generator(env, rooms))\n",
    "\n",
    "# Execute!\n",
    "env.run(until=SIM_TIME)\n"
   ]
  }
 ],
 "metadata": {
  "kernelspec": {
   "display_name": "Python 3",
   "language": "python",
   "name": "python3"
  },
  "language_info": {
   "codemirror_mode": {
    "name": "ipython",
    "version": 3
   },
   "file_extension": ".py",
   "mimetype": "text/x-python",
   "name": "python",
   "nbconvert_exporter": "python",
   "pygments_lexer": "ipython3",
   "version": "3.12.4"
  }
 },
 "nbformat": 4,
 "nbformat_minor": 2
}
